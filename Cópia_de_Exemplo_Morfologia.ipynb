{
  "nbformat": 4,
  "nbformat_minor": 0,
  "metadata": {
    "colab": {
      "provenance": [],
      "include_colab_link": true
    },
    "kernelspec": {
      "name": "python3",
      "display_name": "Python 3"
    },
    "language_info": {
      "name": "python"
    }
  },
  "cells": [
    {
      "cell_type": "markdown",
      "metadata": {
        "id": "view-in-github",
        "colab_type": "text"
      },
      "source": [
        "<a href=\"https://colab.research.google.com/github/joaovcf19/colabproject/blob/main/C%C3%B3pia_de_Exemplo_Morfologia.ipynb\" target=\"_parent\"><img src=\"https://colab.research.google.com/assets/colab-badge.svg\" alt=\"Open In Colab\"/></a>"
      ]
    },
    {
      "cell_type": "markdown",
      "source": [
        "Universidade do Vale do Itajaí<br>\n",
        "Escola do Mar, Ciência e Tecnologia<br>\n",
        "Professor Felipe Viel\n",
        "\n",
        "# Exemplo Morfologia\n",
        "\n",
        "### Tutoriais da OpenCV\n",
        "\n",
        "- https://docs.opencv.org/master/d9/df8/tutorial_root.html\n",
        "- https://www.geeksforgeeks.org/opencv-python-tutorial/"
      ],
      "metadata": {
        "id": "hs7F3RjrUjCH"
      }
    },
    {
      "cell_type": "code",
      "execution_count": 14,
      "metadata": {
        "id": "9ieiSWN_Uh5b"
      },
      "outputs": [],
      "source": [
        "#from https://opencv-python-tutroals.readthedocs.io/en/latest/py_tutorials/py_imgproc/py_morphological_ops/py_morphological_ops.html\n",
        "import cv2 #Importa a biblioteca OpenCV\n",
        "import numpy as np #Importa a biblioteca numpy e a nomeia como np.\n",
        "#caso for usar o Google Colab com a OpenCV, usar a lib abaixo\n",
        "from google.colab.patches import cv2_imshow #importa a função cv2_imshow para o google colab.\n"
      ]
    },
    {
      "cell_type": "code",
      "source": [
        "img = cv2.imread('j.png',0) #carrega a imagem('j.png) em escala de cinza e armazena em \"img\".\n",
        "img_opening = cv2.imread('j_ruido.png',0) #carrega a imagem (j_ruido.png) em escala de cinza e armazena em \"img_opening\".\n",
        "img_closing = cv2.imread('j_furos.png',0) #carrega a imagem (j_furos.png em escala de cinza e armazena em \"img_closing\".\n",
        "altura, largura = img.shape #Atribui as dimensões da imagem armazenada na variavel img, a \"altur\"a e \"largura\".\n",
        "kernel = np.ones((5,5),np.uint8) #Cria um kernel usado para operações morfológicas (uma matriz 5x5 e a preenche somente com o numeros 1's,) e a armazena em \"Kernel\".\n",
        "print(kernel) #Printa a matriz armazenada em \"Kernel\""
      ],
      "metadata": {
        "id": "8whvZbKhU03S"
      },
      "execution_count": null,
      "outputs": []
    },
    {
      "cell_type": "code",
      "source": [
        "erosion = cv2.erode(img,kernel,iterations = 2) #Aplica erosão na imagem, para reduzir seus detalhes, e a armazena em \"erosion\".\n",
        "dilation = cv2.dilate(img,kernel,iterations = 2) #Aplica dilatação na imagem para aumentar o tamanho dos objetos, e a armazena em \"dilation\"."
      ],
      "metadata": {
        "id": "RnKcRcjsU8VP"
      },
      "execution_count": null,
      "outputs": []
    },
    {
      "cell_type": "code",
      "source": [
        "gradient = cv2.morphologyEx(img, cv2.MORPH_GRADIENT, kernel) #Aplica um gradiente na imagem para realçar suas bordas, e a armazena em \"dilation\".\n",
        "opening = cv2.morphologyEx(img_opening, cv2.MORPH_OPEN, kernel) #Aplica uma abertura na imagem para remover ruuidos e objetos pequenos, e as armazena em \"opening\".\n",
        "closing = cv2.morphologyEx(img_closing, cv2.MORPH_CLOSE, kernel) #Aplica um fechamento na imagem para fechar pequenas aberturas, e a armazena em \"closing\""
      ],
      "metadata": {
        "id": "WvTtlQWJU-tz"
      },
      "execution_count": null,
      "outputs": []
    },
    {
      "cell_type": "code",
      "source": [
        "'''\n",
        "#Caso usa com Python no próprio computador\n",
        "cv2.imshow('in', img)\n",
        "cv2.imshow('erosion_out', erosion)\n",
        "cv2.imshow('dilation_out', dilation)\n",
        "cv2.imshow('opening_out', opening)\n",
        "cv2.imshow('closing_out', closing)\n",
        "cv2.imshow('gradient_out', gradient)\n",
        "'''\n",
        "#Caso use o Google Colab\n",
        "cv2_imshow(img) #Exibe a imagem original no ambiente de execução do google colab.\n",
        "cv2_imshow(erosion) #Exibe a imagem com a alteração de erosão no ambiente de execução do google colab.\n",
        "cv2_imshow(dilation) #Exibe a imagem com a alteração de dilatação no ambiente de execução do google colab.\n",
        "cv2_imshow(opening) #Exibe a imagem com  a alteração de abertura no ambiente de execução do google colab.\n",
        "cv2_imshow(closing) #Exibe a imagem com  a alteração de fechamento no ambiente de execução do google colab.\n",
        "cv2_imshow(gradient) #Exibe a imagem com  a alteração de gradiente no ambiente de execução do google colab."
      ],
      "metadata": {
        "id": "iMJ7o6EgVA_r"
      },
      "execution_count": null,
      "outputs": []
    }
  ]
}